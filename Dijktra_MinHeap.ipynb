{
 "cells": [
  {
   "cell_type": "code",
   "execution_count": 3,
   "metadata": {},
   "outputs": [],
   "source": [
    "import heapq\n",
    "from heapq import heappush, heappop\n",
    "\n",
    "import math\n",
    "import osmnx as ox\n",
    "import networkx as nx"
   ]
  },
  {
   "cell_type": "code",
   "execution_count": null,
   "metadata": {},
   "outputs": [],
   "source": [
    "def dijkstra(G, source, target, weight): \n",
    "    if not source:\n",
    "        raise ValueError('need source')\n",
    "    if not source in G:\n",
    "        raise AssertionError(\"Source not in Graph\")\n",
    "    if not target in G:\n",
    "        raise AssertionError(\"Target not in Graph\")\n",
    "    if target == source:\n",
    "        return (0, [target])\n",
    "    paths = {source: [source]}\n",
    "    dist = {} \n",
    "    heap = []\n",
    "    seen[source] = 0\n",
    "    heappush(heap, (0, source))\n",
    "    while heap:\n",
    "        (d, v) = heappop(heap)\n",
    "        if v in dist:\n",
    "            continue\n",
    "        dist[v] = d\n",
    "        if v == target:\n",
    "            return paths[target], dist[target]\n",
    "        minner = float(\"inf\")\n",
    "        struc = graph_proj._succ[v]\n",
    "        nexter, edge = struc.keys(), list(struc.values())\n",
    "        for j in range(len(struc)):\n",
    "            length = list(list(edge)[j].values())[0]['length']\n",
    "            if length < minner:\n",
    "                min_node = nexter[j]\n",
    "                minner = length\n",
    "        new_dist = dist[v] + minner\n",
    "        elif not u in seen or new_dist < seen[u]:\n",
    "            seen[u] = new_dist\n",
    "            heappush(heap, (new_dist, u))\n",
    "            paths[u] = paths[v] + [u]\n",
    "    return paths[target], dist[target]  "
   ]
  }
 ],
 "metadata": {
  "kernelspec": {
   "display_name": "Python 3",
   "language": "python",
   "name": "python3"
  },
  "language_info": {
   "codemirror_mode": {
    "name": "ipython",
    "version": 3
   },
   "file_extension": ".py",
   "mimetype": "text/x-python",
   "name": "python",
   "nbconvert_exporter": "python",
   "pygments_lexer": "ipython3",
   "version": "3.7.6"
  }
 },
 "nbformat": 4,
 "nbformat_minor": 4
}
