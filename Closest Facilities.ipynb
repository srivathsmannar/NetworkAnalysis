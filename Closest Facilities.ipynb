{
 "cells": [
  {
   "cell_type": "code",
   "execution_count": 5,
   "metadata": {},
   "outputs": [],
   "source": [
    "from arcgis.gis import GIS\n",
    "import arcgis.network as network\n",
    "from arcgis.features import FeatureLayer, Feature, FeatureSet, use_proximity, FeatureCollection\n",
    "import pandas as pd\n",
    "import time\n",
    "import datetime as dt"
   ]
  },
  {
   "cell_type": "code",
   "execution_count": 8,
   "metadata": {},
   "outputs": [],
   "source": [
    "my_gis = GIS('https://www.arcgis.com', 'srivathskm', 'Hedebyhedge7$', verify_cert=False, set_active=True)"
   ]
  },
  {
   "cell_type": "code",
   "execution_count": 10,
   "metadata": {},
   "outputs": [
    {
     "name": "stdout",
     "output_type": "stream",
     "text": [
      "hospitals_SB_counties.csv\n"
     ]
    },
    {
     "data": {
      "text/html": [
       "<div class=\"item_container\" style=\"height: auto; overflow: hidden; border: 1px solid #cfcfcf; border-radius: 2px; background: #f6fafa; line-height: 1.21429em; padding: 10px;\">\n",
       "                    <div class=\"item_left\" style=\"width: 210px; float: left;\">\n",
       "                       <a href='https://srivathskm.maps.arcgis.com/home/item.html?id=10d618d3f52b4e99afebb8a1511484ab' target='_blank'>\n",
       "                        <img src='http://static.arcgis.com/images/desktopapp.png' class=\"itemThumbnail\">\n",
       "                       </a>\n",
       "                    </div>\n",
       "\n",
       "                    <div class=\"item_right\"     style=\"float: none; width: auto; overflow: hidden;\">\n",
       "                        <a href='https://srivathskm.maps.arcgis.com/home/item.html?id=10d618d3f52b4e99afebb8a1511484ab' target='_blank'><b>hospitals_SB_counties</b>\n",
       "                        </a>\n",
       "                        <br/><img src='https://srivathskm.maps.arcgis.com/home/js/jsapi/esri/css/images/item_type_icons/featureshosted16.png' style=\"vertical-align:middle;\">Feature Layer Collection by srivathskm\n",
       "                        <br/>Last Modified: August 17, 2020\n",
       "                        <br/>0 comments, 0 views\n",
       "                    </div>\n",
       "                </div>\n",
       "                "
      ],
      "text/plain": [
       "<Item title:\"hospitals_SB_counties\" type:Feature Layer Collection owner:srivathskm>"
      ]
     },
     "metadata": {},
     "output_type": "display_data"
    }
   ],
   "source": [
    "import requests\n",
    "import csv\n",
    "import os\n",
    "\n",
    "out_file_name = 'hospitals_SB_counties.csv'\n",
    "url = \"https://data.chhs.ca.gov/datastore/dump/641c5557-7d65-4379-8fea-6b7dedbda40b?q=&sort=_id+asc&fields=OSHPD_ID%2CFACILITY_NAME%2CLICENSE_NUM%2CFACILITY_LEVEL_DESC%2CDBA_ADDRESS1%2CDBA_CITY%2CDBA_ZIP_CODE%2CCOUNTY_CODE%2CCOUNTY_NAME%2CER_SERVICE_LEVEL_DESC%2CTOTAL_NUMBER_BEDS%2CFACILITY_STATUS_DESC%2CFACILITY_STATUS_DATE%2CLICENSE_TYPE_DESC%2CLICENSE_CATEGORY_DESC%2CLATITUDE%2CLONGITUDE&filters=%7B%22COUNTY_CODE%22%3A+%5B%2236%22%5D%7D&format=csv\"\n",
    "download = requests.get(url)\n",
    "\n",
    "with open(out_file_name, 'w') as out_file:\n",
    "    out_file.writelines(download.text)\n",
    "    print(out_file_name)\n",
    "csv_item = my_gis.content.add({}, out_file_name)\n",
    "hospital_item = csv_item.publish()\n",
    "display(hospital_item)"
   ]
  },
  {
   "cell_type": "code",
   "execution_count": 11,
   "metadata": {},
   "outputs": [
    {
     "data": {
      "text/plain": [
       "<FeatureLayer url:\"https://services.arcgis.com/8r5Y8U62UfdJkAyA/arcgis/rest/services/hospitals_SB_counties/FeatureServer/0\">"
      ]
     },
     "execution_count": 11,
     "metadata": {},
     "output_type": "execute_result"
    }
   ],
   "source": [
    "hospital_fl = hospital_item.layers[0]\n",
    "hospital_fl"
   ]
  },
  {
   "cell_type": "code",
   "execution_count": 12,
   "metadata": {},
   "outputs": [
    {
     "data": {
      "text/plain": [
       "<FeatureSet> 27 features"
      ]
     },
     "metadata": {},
     "output_type": "display_data"
    }
   ],
   "source": [
    "facilities = hospital_fl.query(where=\"Dba_city='REDLANDS'\", as_df=False)\n",
    "display(facilities)"
   ]
  },
  {
   "cell_type": "code",
   "execution_count": 13,
   "metadata": {},
   "outputs": [],
   "source": [
    "incidents_json = {\n",
    "                    \"features\": [{\"attributes\": {\"CurbApproach\": 0,\n",
    "                                                 \"ID\": \"C100045\",\n",
    "                                                 \"Name\": \"Incident at Esri\"},\n",
    "                                  \"geometry\": {\"x\": -117.19569523299998, \"y\": 34.05608640000003}},\n",
    "                                 {\"attributes\": {\"CurbApproach\": 0,\n",
    "                                                 \"ID\": \"F100086\",\n",
    "                                                 \"Name\": \"Incident at APT\"},\n",
    "                                  \"geometry\": {\"x\": -117.20520037855628, \"y\": 34.04472649163186}},\n",
    "                                 {\"attributes\": {\"CurbApproach\": 0,\n",
    "                                                 \"ID\": \"C100097\",\n",
    "                                                 \"Name\": \"Incident at Walmart\"},\n",
    "                                  \"geometry\": {\"x\": -117.222253, \"y\": 34.065378}}],\n",
    "                    \"spatialReference\": {\"wkid\": 4326, \"latestWkid\": 4326},\n",
    "                    \"geometryType\": \"esriGeometryPoint\",\n",
    "                    \"fields\" : [\n",
    "                        {\"name\" : \"ID\", \"type\" : \"esriFieldTypeString\", \"alias\" : \"ID\", \"length\" : \"50\"},\n",
    "                        {\"name\" : \"Name\", \"type\" : \"esriFieldTypeString\", \"alias\" : \"Name\", \"length\" : \"50\"},\n",
    "                        {\"name\" : \"CurbApproach\", \"type\" : \"esriFieldTypeInteger\", \"alias\" : \"CurbApproach\"}\n",
    "                    ]\n",
    "                }\n",
    "incidents = FeatureSet.from_dict(incidents_json)"
   ]
  },
  {
   "cell_type": "code",
   "execution_count": 14,
   "metadata": {},
   "outputs": [
    {
     "data": {
      "text/plain": [
       "<FeatureSet> 3 features"
      ]
     },
     "execution_count": 14,
     "metadata": {},
     "output_type": "execute_result"
    }
   ],
   "source": [
    "incidents"
   ]
  },
  {
   "cell_type": "code",
   "execution_count": 15,
   "metadata": {
    "scrolled": true
   },
   "outputs": [
    {
     "data": {
      "application/vnd.jupyter.widget-view+json": {
       "model_id": "175ddbd0728e4a85b85a0e54716de0f4",
       "version_major": 2,
       "version_minor": 0
      },
      "text/plain": [
       "MapView(layout=Layout(height='400px', width='100%'))"
      ]
     },
     "metadata": {},
     "output_type": "display_data"
    },
    {
     "data": {
      "text/html": [
       "<div class=\"map-static-img-preview-cc6a99aa-f191-4859-ae54-98746ce753ae\"><img src=\"\"></img></div>"
      ],
      "text/plain": [
       "<IPython.core.display.HTML object>"
      ]
     },
     "metadata": {},
     "output_type": "display_data"
    }
   ],
   "source": [
    "map1 = my_gis.map('Redlands, CA', zoomlevel=12)\n",
    "map1"
   ]
  },
  {
   "cell_type": "code",
   "execution_count": 19,
   "metadata": {},
   "outputs": [],
   "source": [
    "hospital_symbol = {\"type\":\"esriPMS\",\n",
    "                   \"url\":\"http://static.arcgis.com/images/Symbols/SafetyHealth/Hospital.png\",\n",
    "                   \"contentType\": \"image/png\", \"width\":20, \"height\":20}\n",
    "\n",
    "map1.draw(facilities, symbol=hospital_symbol)"
   ]
  },
  {
   "cell_type": "code",
   "execution_count": 18,
   "metadata": {},
   "outputs": [],
   "source": [
    "traffic_accident_symbol = {\"type\":\"esriPMS\",\n",
    "                           \"url\":\"http://static.arcgis.com/images/Symbols/Transportation/TrafficAccident.png\",\n",
    "                           \"contentType\": \"image/png\", \"width\":20, \"height\":20}\n",
    "\n",
    "map1.draw(incidents, symbol=traffic_accident_symbol)"
   ]
  },
  {
   "cell_type": "code",
   "execution_count": 55,
   "metadata": {},
   "outputs": [
    {
     "name": "stderr",
     "output_type": "stream",
     "text": [
      "Network elements with avoid-restrictions are traversed in the output (restriction attribute names: \"Through Traffic Prohibited\").\n"
     ]
    },
    {
     "name": "stdout",
     "output_type": "stream",
     "text": [
      "CPU times: user 155 ms, sys: 15.7 ms, total: 170 ms\n",
      "Wall time: 9.83 s\n"
     ]
    }
   ],
   "source": [
    "%%time\n",
    "current_time = dt.datetime.now()  \n",
    "result1 = network.analysis.find_closest_facilities(incidents=incidents, facilities=facilities, \n",
    "                                                   cutoff=10, time_of_day=current_time, \n",
    "                                                   number_of_facilities_to_find=4,\n",
    "                                                   gis=my_gis, populate_directions=True, save_output_network_analysis_layer=True, save_route_data=True)"
   ]
  },
  {
   "cell_type": "code",
   "execution_count": 56,
   "metadata": {},
   "outputs": [
    {
     "data": {
      "text/plain": [
       "ToolOutput(output_routes=<FeatureSet> 12 features, output_directions=<FeatureSet> 85 features, solve_succeeded=True, output_closest_facilities=<FeatureSet> 12 features, output_network_analysis_layer={\"url\": \"https://logistics.arcgis.com/arcgis/rest/directories/arcgisjobs/world/closestfacility_gpserver/j09ae54d56c834a869ff8ebc0fa6bdd63/scratch/_ags_gpna4f8cbc79543e4435914cedaa3dcc3c8f.lyr\"}, output_route_data={\"url\": \"https://logistics.arcgis.com/arcgis/rest/directories/arcgisjobs/world/closestfacility_gpserver/j09ae54d56c834a869ff8ebc0fa6bdd63/scratch/_ags_rd0e7f4969550242319bdfa641431163f7.zip\"}, output_incidents=<FeatureSet> 3 features, output_facilities=<FeatureSet> 27 features, output_result_file=None)"
      ]
     },
     "execution_count": 56,
     "metadata": {},
     "output_type": "execute_result"
    }
   ],
   "source": [
    "result1"
   ]
  },
  {
   "cell_type": "code",
   "execution_count": 61,
   "metadata": {},
   "outputs": [],
   "source": [
    "df4 = result1.output_routes.sdf[[\"Name\", \"IncidentID\", \"Total_Kilometers\", \"Total_Minutes\"]]"
   ]
  },
  {
   "cell_type": "code",
   "execution_count": 26,
   "metadata": {},
   "outputs": [
    {
     "data": {
      "application/vnd.jupyter.widget-view+json": {
       "model_id": "b836d2dd3f7d4bc89060e60a30cf0b09",
       "version_major": 2,
       "version_minor": 0
      },
      "text/plain": [
       "MapView(layout=Layout(height='400px', width='100%'))"
      ]
     },
     "metadata": {},
     "output_type": "display_data"
    },
    {
     "data": {
      "text/html": [
       "<div class=\"map-static-img-preview-82159032-ffc7-40b2-8f73-7fa1e2fb188a\"><img src=\"\"></img></div>"
      ],
      "text/plain": [
       "<IPython.core.display.HTML object>"
      ]
     },
     "metadata": {},
     "output_type": "display_data"
    }
   ],
   "source": [
    "map2 = my_gis.map('Redlands, CA', zoomlevel=12)\n",
    "map2"
   ]
  },
  {
   "cell_type": "code",
   "execution_count": 37,
   "metadata": {},
   "outputs": [],
   "source": [
    "map2.draw(facilities, symbol=hospital_symbol, attributes={\"title\":\"Hospital Facility\"})\n",
    "map2.draw(incidents, symbol=traffic_accident_symbol, attributes={\"title\":\"Incident Location\"})"
   ]
  },
  {
   "cell_type": "code",
   "execution_count": 60,
   "metadata": {},
   "outputs": [],
   "source": [
    "map2.add_layer(result1.output_routes)"
   ]
  },
  {
   "cell_type": "code",
   "execution_count": 42,
   "metadata": {},
   "outputs": [],
   "source": [
    "directions = result1.output_directions.sdf"
   ]
  },
  {
   "cell_type": "code",
   "execution_count": 59,
   "metadata": {},
   "outputs": [],
   "source": [
    "routed_directions = directions.groupby(\"RouteName\").Text.apply(list)"
   ]
  },
  {
   "cell_type": "code",
   "execution_count": null,
   "metadata": {},
   "outputs": [],
   "source": []
  },
  {
   "cell_type": "code",
   "execution_count": 79,
   "metadata": {},
   "outputs": [
    {
     "data": {
      "text/plain": [
       "RouteName\n",
       "Incident at APT - Location 2         [Start at Incident at APT, Go east on Brooksid...\n",
       "Incident at Walmart - Location 22    [Start at Incident at Walmart, Go north, Restr...\n",
       "Incident at Esri - Location 26       [Start at Incident at Esri, Go west toward New...\n",
       "Name: Text, dtype: object"
      ]
     },
     "execution_count": 79,
     "metadata": {},
     "output_type": "execute_result"
    }
   ],
   "source": [
    "routed_directions = routed_directions.iloc[[2, 10, 6]]"
   ]
  },
  {
   "cell_type": "code",
   "execution_count": 88,
   "metadata": {},
   "outputs": [],
   "source": [
    "facilies = (result1.output_facilities.sdf['FACILITY_NAME'])"
   ]
  },
  {
   "cell_type": "code",
   "execution_count": 90,
   "metadata": {},
   "outputs": [
    {
     "data": {
      "text/plain": [
       "'REDLANDS COMMUNITY HOSPITAL'"
      ]
     },
     "execution_count": 90,
     "metadata": {},
     "output_type": "execute_result"
    }
   ],
   "source": [
    "facilies[0]"
   ]
  },
  {
   "cell_type": "code",
   "execution_count": 62,
   "metadata": {},
   "outputs": [
    {
     "data": {
      "text/html": [
       "<div>\n",
       "<style scoped>\n",
       "    .dataframe tbody tr th:only-of-type {\n",
       "        vertical-align: middle;\n",
       "    }\n",
       "\n",
       "    .dataframe tbody tr th {\n",
       "        vertical-align: top;\n",
       "    }\n",
       "\n",
       "    .dataframe thead th {\n",
       "        text-align: right;\n",
       "    }\n",
       "</style>\n",
       "<table border=\"1\" class=\"dataframe\">\n",
       "  <thead>\n",
       "    <tr style=\"text-align: right;\">\n",
       "      <th></th>\n",
       "      <th>Name</th>\n",
       "      <th>IncidentID</th>\n",
       "      <th>Total_Kilometers</th>\n",
       "      <th>Total_Minutes</th>\n",
       "    </tr>\n",
       "  </thead>\n",
       "  <tbody>\n",
       "    <tr>\n",
       "      <th>0</th>\n",
       "      <td>Incident at Esri - Location 26</td>\n",
       "      <td>C100045</td>\n",
       "      <td>0.861167</td>\n",
       "      <td>1.374616</td>\n",
       "    </tr>\n",
       "    <tr>\n",
       "      <th>1</th>\n",
       "      <td>Incident at Walmart - Location 22</td>\n",
       "      <td>C100097</td>\n",
       "      <td>0.628640</td>\n",
       "      <td>1.780832</td>\n",
       "    </tr>\n",
       "    <tr>\n",
       "      <th>2</th>\n",
       "      <td>Incident at APT - Location 2</td>\n",
       "      <td>F100086</td>\n",
       "      <td>0.431715</td>\n",
       "      <td>0.575727</td>\n",
       "    </tr>\n",
       "  </tbody>\n",
       "</table>\n",
       "</div>"
      ],
      "text/plain": [
       "                                Name IncidentID  Total_Kilometers  \\\n",
       "0     Incident at Esri - Location 26    C100045          0.861167   \n",
       "1  Incident at Walmart - Location 22    C100097          0.628640   \n",
       "2       Incident at APT - Location 2    F100086          0.431715   \n",
       "\n",
       "   Total_Minutes  \n",
       "0       1.374616  \n",
       "1       1.780832  \n",
       "2       0.575727  "
      ]
     },
     "execution_count": 62,
     "metadata": {},
     "output_type": "execute_result"
    }
   ],
   "source": [
    "df4_shortest = df4.sort_values(\"Total_Minutes\").groupby(\"IncidentID\", as_index=False).first()\n",
    "df4_shortest[[\"Name\", \"IncidentID\", \"Total_Kilometers\", \"Total_Minutes\"]]"
   ]
  },
  {
   "cell_type": "code",
   "execution_count": 97,
   "metadata": {},
   "outputs": [
    {
     "data": {
      "text/plain": [
       "'26'"
      ]
     },
     "execution_count": 97,
     "metadata": {},
     "output_type": "execute_result"
    }
   ],
   "source": [
    "int(df4_shortest.Name[0].split()[-1])"
   ]
  },
  {
   "cell_type": "code",
   "execution_count": 86,
   "metadata": {},
   "outputs": [],
   "source": [
    "with_route = df4_shortest.merge(routed_directions, left_on='Name', right_on=\"RouteName\")"
   ]
  },
  {
   "cell_type": "code",
   "execution_count": 105,
   "metadata": {},
   "outputs": [],
   "source": [
    "dests = []\n",
    "for index, row in with_route.iterrows():\n",
    "    number = int(df4_shortest.Name[index].split()[-1])\n",
    "    dests.append(facilies[number])"
   ]
  },
  {
   "cell_type": "code",
   "execution_count": 106,
   "metadata": {},
   "outputs": [],
   "source": [
    "with_route[\"Destination\"] = dests"
   ]
  },
  {
   "cell_type": "code",
   "execution_count": 111,
   "metadata": {},
   "outputs": [
    {
     "data": {
      "text/html": [
       "<div>\n",
       "<style scoped>\n",
       "    .dataframe tbody tr th:only-of-type {\n",
       "        vertical-align: middle;\n",
       "    }\n",
       "\n",
       "    .dataframe tbody tr th {\n",
       "        vertical-align: top;\n",
       "    }\n",
       "\n",
       "    .dataframe thead th {\n",
       "        text-align: right;\n",
       "    }\n",
       "</style>\n",
       "<table border=\"1\" class=\"dataframe\">\n",
       "  <thead>\n",
       "    <tr style=\"text-align: right;\">\n",
       "      <th></th>\n",
       "      <th>IncidentID</th>\n",
       "      <th>Name</th>\n",
       "      <th>Total_Kilometers</th>\n",
       "      <th>Total_Minutes</th>\n",
       "      <th>Directions</th>\n",
       "      <th>Destination</th>\n",
       "    </tr>\n",
       "  </thead>\n",
       "  <tbody>\n",
       "    <tr>\n",
       "      <th>0</th>\n",
       "      <td>C100045</td>\n",
       "      <td>Incident at Esri - Location 26</td>\n",
       "      <td>0.861167</td>\n",
       "      <td>1.374616</td>\n",
       "      <td>[Start at Incident at Esri, Go west toward New...</td>\n",
       "      <td>BRIGHT SKY HOME HEALTH CARE, INC.</td>\n",
       "    </tr>\n",
       "    <tr>\n",
       "      <th>1</th>\n",
       "      <td>C100097</td>\n",
       "      <td>Incident at Walmart - Location 22</td>\n",
       "      <td>0.628640</td>\n",
       "      <td>1.780832</td>\n",
       "      <td>[Start at Incident at Walmart, Go north, Restr...</td>\n",
       "      <td>PRIOR LEVEL HOME HEALTH</td>\n",
       "    </tr>\n",
       "    <tr>\n",
       "      <th>2</th>\n",
       "      <td>F100086</td>\n",
       "      <td>Incident at APT - Location 2</td>\n",
       "      <td>0.431715</td>\n",
       "      <td>0.575727</td>\n",
       "      <td>[Start at Incident at APT, Go east on Brooksid...</td>\n",
       "      <td>LOMA LINDA UNIVERSITY SURGICAL HOSPITAL</td>\n",
       "    </tr>\n",
       "  </tbody>\n",
       "</table>\n",
       "</div>"
      ],
      "text/plain": [
       "  IncidentID                               Name  Total_Kilometers  \\\n",
       "0    C100045     Incident at Esri - Location 26          0.861167   \n",
       "1    C100097  Incident at Walmart - Location 22          0.628640   \n",
       "2    F100086       Incident at APT - Location 2          0.431715   \n",
       "\n",
       "   Total_Minutes                                         Directions  \\\n",
       "0       1.374616  [Start at Incident at Esri, Go west toward New...   \n",
       "1       1.780832  [Start at Incident at Walmart, Go north, Restr...   \n",
       "2       0.575727  [Start at Incident at APT, Go east on Brooksid...   \n",
       "\n",
       "                               Destination  \n",
       "0        BRIGHT SKY HOME HEALTH CARE, INC.  \n",
       "1                  PRIOR LEVEL HOME HEALTH  \n",
       "2  LOMA LINDA UNIVERSITY SURGICAL HOSPITAL  "
      ]
     },
     "execution_count": 111,
     "metadata": {},
     "output_type": "execute_result"
    }
   ],
   "source": [
    "with_route.rename(columns={\"Text\":\"Directions\"})"
   ]
  },
  {
   "cell_type": "code",
   "execution_count": null,
   "metadata": {},
   "outputs": [],
   "source": [
    "with_route['Text'].rename()"
   ]
  },
  {
   "cell_type": "code",
   "execution_count": 68,
   "metadata": {},
   "outputs": [
    {
     "ename": "TypeError",
     "evalue": "'NoneType' object does not support item assignment",
     "output_type": "error",
     "traceback": [
      "\u001b[0;31m---------------------------------------------------------------------------\u001b[0m",
      "\u001b[0;31mTypeError\u001b[0m                                 Traceback (most recent call last)",
      "\u001b[0;32m<ipython-input-68-78a96996be4d>\u001b[0m in \u001b[0;36m<module>\u001b[0;34m\u001b[0m\n\u001b[1;32m      1\u001b[0m \u001b[0mred_highlight_symbol\u001b[0m \u001b[0;34m=\u001b[0m \u001b[0;34m{\u001b[0m\u001b[0;34m'type'\u001b[0m\u001b[0;34m:\u001b[0m \u001b[0;34m'esriSLS'\u001b[0m\u001b[0;34m,\u001b[0m \u001b[0;34m'style'\u001b[0m\u001b[0;34m:\u001b[0m \u001b[0;34m'esriSLSSolid'\u001b[0m\u001b[0;34m,\u001b[0m\u001b[0;34m'color'\u001b[0m\u001b[0;34m:\u001b[0m \u001b[0;34m[\u001b[0m\u001b[0;36m237\u001b[0m\u001b[0;34m,\u001b[0m \u001b[0;36m0\u001b[0m\u001b[0;34m,\u001b[0m \u001b[0;36m0\u001b[0m\u001b[0;34m,\u001b[0m \u001b[0;36m100\u001b[0m\u001b[0;34m]\u001b[0m\u001b[0;34m,\u001b[0m \u001b[0;34m'width'\u001b[0m\u001b[0;34m:\u001b[0m \u001b[0;36m6\u001b[0m\u001b[0;34m}\u001b[0m\u001b[0;34m\u001b[0m\u001b[0;34m\u001b[0m\u001b[0m\n\u001b[0;32m----> 2\u001b[0;31m \u001b[0mmap2\u001b[0m\u001b[0;34m.\u001b[0m\u001b[0mdraw\u001b[0m\u001b[0;34m(\u001b[0m\u001b[0mdf4_shortest\u001b[0m\u001b[0;34m.\u001b[0m\u001b[0mspatial\u001b[0m\u001b[0;34m.\u001b[0m\u001b[0mto_featureset\u001b[0m\u001b[0;34m(\u001b[0m\u001b[0;34m)\u001b[0m\u001b[0;34m,\u001b[0m \u001b[0msymbol\u001b[0m\u001b[0;34m=\u001b[0m\u001b[0mred_highlight_symbol\u001b[0m\u001b[0;34m)\u001b[0m\u001b[0;34m\u001b[0m\u001b[0;34m\u001b[0m\u001b[0m\n\u001b[0m\u001b[1;32m      3\u001b[0m \u001b[0mmap2\u001b[0m\u001b[0;34m.\u001b[0m\u001b[0mzoom\u001b[0m\u001b[0;34m=\u001b[0m\u001b[0;36m14\u001b[0m\u001b[0;34m\u001b[0m\u001b[0;34m\u001b[0m\u001b[0m\n",
      "\u001b[0;32m~/anaconda3/lib/python3.7/site-packages/arcgis/widgets/_mapview/_mapview.py\u001b[0m in \u001b[0;36mdraw\u001b[0;34m(self, shape, popup, symbol, attributes)\u001b[0m\n\u001b[1;32m   1760\u001b[0m             \u001b[0;32mif\u001b[0m \u001b[0misinstance\u001b[0m\u001b[0;34m(\u001b[0m\u001b[0mshape\u001b[0m\u001b[0;34m,\u001b[0m \u001b[0mFeatureSet\u001b[0m\u001b[0;34m)\u001b[0m\u001b[0;34m:\u001b[0m\u001b[0;34m\u001b[0m\u001b[0;34m\u001b[0m\u001b[0m\n\u001b[1;32m   1761\u001b[0m                 \u001b[0mfset\u001b[0m \u001b[0;34m=\u001b[0m \u001b[0mshape\u001b[0m\u001b[0;34m\u001b[0m\u001b[0;34m\u001b[0m\u001b[0m\n\u001b[0;32m-> 1762\u001b[0;31m                 \u001b[0mself\u001b[0m\u001b[0;34m.\u001b[0m\u001b[0m_draw_featureset\u001b[0m\u001b[0;34m(\u001b[0m\u001b[0mfset\u001b[0m\u001b[0;34m,\u001b[0m \u001b[0mpopup\u001b[0m\u001b[0;34m,\u001b[0m \u001b[0msymbol\u001b[0m\u001b[0;34m)\u001b[0m\u001b[0;34m\u001b[0m\u001b[0;34m\u001b[0m\u001b[0m\n\u001b[0m\u001b[1;32m   1763\u001b[0m             \u001b[0;32melif\u001b[0m \u001b[0misinstance\u001b[0m\u001b[0;34m(\u001b[0m\u001b[0mshape\u001b[0m\u001b[0;34m,\u001b[0m \u001b[0mdict\u001b[0m\u001b[0;34m)\u001b[0m\u001b[0;34m:\u001b[0m\u001b[0;34m\u001b[0m\u001b[0;34m\u001b[0m\u001b[0m\n\u001b[1;32m   1764\u001b[0m                 \u001b[0;32mif\u001b[0m \u001b[0;34m'type'\u001b[0m \u001b[0;32mnot\u001b[0m \u001b[0;32min\u001b[0m \u001b[0mshape\u001b[0m\u001b[0;34m:\u001b[0m\u001b[0;34m\u001b[0m\u001b[0;34m\u001b[0m\u001b[0m\n",
      "\u001b[0;32m~/anaconda3/lib/python3.7/site-packages/arcgis/widgets/_mapview/_mapview.py\u001b[0m in \u001b[0;36m_draw_featureset\u001b[0;34m(self, fset, popup, symbol)\u001b[0m\n\u001b[1;32m   1814\u001b[0m         \u001b[0;32mfor\u001b[0m \u001b[0mfeature\u001b[0m \u001b[0;32min\u001b[0m \u001b[0mfset\u001b[0m\u001b[0;34m.\u001b[0m\u001b[0mfeatures\u001b[0m\u001b[0;34m:\u001b[0m\u001b[0;34m\u001b[0m\u001b[0;34m\u001b[0m\u001b[0m\n\u001b[1;32m   1815\u001b[0m             graphic = self._get_graphic_from_feature(feature,\n\u001b[0;32m-> 1816\u001b[0;31m                                                          popup, symbol)\n\u001b[0m\u001b[1;32m   1817\u001b[0m             \u001b[0mgraphics\u001b[0m\u001b[0;34m.\u001b[0m\u001b[0mappend\u001b[0m\u001b[0;34m(\u001b[0m\u001b[0mgraphic\u001b[0m\u001b[0;34m)\u001b[0m\u001b[0;34m\u001b[0m\u001b[0;34m\u001b[0m\u001b[0m\n\u001b[1;32m   1818\u001b[0m             \u001b[0;32mif\u001b[0m \u001b[0mself\u001b[0m\u001b[0;34m.\u001b[0m\u001b[0mready\u001b[0m\u001b[0;34m:\u001b[0m\u001b[0;34m\u001b[0m\u001b[0;34m\u001b[0m\u001b[0m\n",
      "\u001b[0;32m~/anaconda3/lib/python3.7/site-packages/arcgis/widgets/_mapview/_mapview.py\u001b[0m in \u001b[0;36m_get_graphic_from_feature\u001b[0;34m(self, feature, popup, symbol)\u001b[0m\n\u001b[1;32m   1829\u001b[0m             \u001b[0mpopup_dict\u001b[0m \u001b[0;34m=\u001b[0m \u001b[0;32mNone\u001b[0m\u001b[0;34m\u001b[0m\u001b[0;34m\u001b[0m\u001b[0m\n\u001b[1;32m   1830\u001b[0m         \u001b[0mgeometry\u001b[0m \u001b[0;34m=\u001b[0m \u001b[0mfeature\u001b[0m\u001b[0;34m.\u001b[0m\u001b[0mgeometry\u001b[0m\u001b[0;34m\u001b[0m\u001b[0;34m\u001b[0m\u001b[0m\n\u001b[0;32m-> 1831\u001b[0;31m         \u001b[0mgeometry\u001b[0m\u001b[0;34m[\u001b[0m\u001b[0;34m'type'\u001b[0m\u001b[0;34m]\u001b[0m \u001b[0;34m=\u001b[0m \u001b[0mfeature\u001b[0m\u001b[0;34m.\u001b[0m\u001b[0mgeometry_type\u001b[0m\u001b[0;34m.\u001b[0m\u001b[0mlower\u001b[0m\u001b[0;34m(\u001b[0m\u001b[0;34m)\u001b[0m\u001b[0;34m\u001b[0m\u001b[0;34m\u001b[0m\u001b[0m\n\u001b[0m\u001b[1;32m   1832\u001b[0m         graphic = {\n\u001b[1;32m   1833\u001b[0m             \u001b[0;34m\"geometry\"\u001b[0m\u001b[0;34m:\u001b[0m \u001b[0mfeature\u001b[0m\u001b[0;34m.\u001b[0m\u001b[0mgeometry\u001b[0m\u001b[0;34m,\u001b[0m\u001b[0;34m\u001b[0m\u001b[0;34m\u001b[0m\u001b[0m\n",
      "\u001b[0;31mTypeError\u001b[0m: 'NoneType' object does not support item assignment"
     ]
    }
   ],
   "source": [
    "red_highlight_symbol = {'type': 'esriSLS', 'style': 'esriSLSSolid','color': [237, 0, 0, 100], 'width': 6}\n",
    "map2.draw(df4_shortest.spatial.to_featureset(), symbol=red_highlight_symbol)\n",
    "map2.zoom=14"
   ]
  },
  {
   "cell_type": "code",
   "execution_count": null,
   "metadata": {},
   "outputs": [],
   "source": []
  }
 ],
 "metadata": {
  "kernelspec": {
   "display_name": "Python 3",
   "language": "python",
   "name": "python3"
  },
  "language_info": {
   "codemirror_mode": {
    "name": "ipython",
    "version": 3
   },
   "file_extension": ".py",
   "mimetype": "text/x-python",
   "name": "python",
   "nbconvert_exporter": "python",
   "pygments_lexer": "ipython3",
   "version": "3.7.6"
  }
 },
 "nbformat": 4,
 "nbformat_minor": 4
}
